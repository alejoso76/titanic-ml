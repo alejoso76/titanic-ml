{
 "cells": [
  {
   "cell_type": "markdown",
   "metadata": {},
   "source": [
    "# Titanic\n",
    "Este dataset contendrá los detalles de un subconjunto de los pasajeros a bordo (891 para ser exactos) del Titanic, lo que es más importante, revelará si sobrevivieron o no. Algunos datos están perdidos, por lo que habrá que realizar un proceso de limpieza."
   ]
  },
  {
   "cell_type": "code",
   "execution_count": 4,
   "metadata": {},
   "outputs": [],
   "source": [
    "import numpy as np\n",
    "import pandas as pd"
   ]
  },
  {
   "cell_type": "code",
   "execution_count": 5,
   "metadata": {},
   "outputs": [],
   "source": [
    "titanic_df = pd.read_csv('titanic_dataset.csv')"
   ]
  },
  {
   "cell_type": "code",
   "execution_count": 6,
   "metadata": {
    "scrolled": true
   },
   "outputs": [
    {
     "data": {
      "text/html": [
       "<div>\n",
       "<style scoped>\n",
       "    .dataframe tbody tr th:only-of-type {\n",
       "        vertical-align: middle;\n",
       "    }\n",
       "\n",
       "    .dataframe tbody tr th {\n",
       "        vertical-align: top;\n",
       "    }\n",
       "\n",
       "    .dataframe thead th {\n",
       "        text-align: right;\n",
       "    }\n",
       "</style>\n",
       "<table border=\"1\" class=\"dataframe\">\n",
       "  <thead>\n",
       "    <tr style=\"text-align: right;\">\n",
       "      <th></th>\n",
       "      <th>PassengerId</th>\n",
       "      <th>Survived</th>\n",
       "      <th>Pclass</th>\n",
       "      <th>Name</th>\n",
       "      <th>Sex</th>\n",
       "      <th>Age</th>\n",
       "      <th>SibSp</th>\n",
       "      <th>Parch</th>\n",
       "      <th>Ticket</th>\n",
       "      <th>Fare</th>\n",
       "      <th>Cabin</th>\n",
       "      <th>Embarked</th>\n",
       "    </tr>\n",
       "  </thead>\n",
       "  <tbody>\n",
       "    <tr>\n",
       "      <th>0</th>\n",
       "      <td>1</td>\n",
       "      <td>0</td>\n",
       "      <td>3</td>\n",
       "      <td>Braund, Mr. Owen Harris</td>\n",
       "      <td>male</td>\n",
       "      <td>22.0</td>\n",
       "      <td>1</td>\n",
       "      <td>0</td>\n",
       "      <td>A/5 21171</td>\n",
       "      <td>7.2500</td>\n",
       "      <td>NaN</td>\n",
       "      <td>S</td>\n",
       "    </tr>\n",
       "    <tr>\n",
       "      <th>1</th>\n",
       "      <td>2</td>\n",
       "      <td>1</td>\n",
       "      <td>1</td>\n",
       "      <td>Cumings, Mrs. John Bradley (Florence Briggs Th...</td>\n",
       "      <td>female</td>\n",
       "      <td>38.0</td>\n",
       "      <td>1</td>\n",
       "      <td>0</td>\n",
       "      <td>PC 17599</td>\n",
       "      <td>71.2833</td>\n",
       "      <td>C85</td>\n",
       "      <td>C</td>\n",
       "    </tr>\n",
       "    <tr>\n",
       "      <th>2</th>\n",
       "      <td>3</td>\n",
       "      <td>1</td>\n",
       "      <td>3</td>\n",
       "      <td>Heikkinen, Miss. Laina</td>\n",
       "      <td>female</td>\n",
       "      <td>26.0</td>\n",
       "      <td>0</td>\n",
       "      <td>0</td>\n",
       "      <td>STON/O2. 3101282</td>\n",
       "      <td>7.9250</td>\n",
       "      <td>NaN</td>\n",
       "      <td>S</td>\n",
       "    </tr>\n",
       "    <tr>\n",
       "      <th>3</th>\n",
       "      <td>4</td>\n",
       "      <td>1</td>\n",
       "      <td>1</td>\n",
       "      <td>Futrelle, Mrs. Jacques Heath (Lily May Peel)</td>\n",
       "      <td>female</td>\n",
       "      <td>35.0</td>\n",
       "      <td>1</td>\n",
       "      <td>0</td>\n",
       "      <td>113803</td>\n",
       "      <td>53.1000</td>\n",
       "      <td>C123</td>\n",
       "      <td>S</td>\n",
       "    </tr>\n",
       "    <tr>\n",
       "      <th>4</th>\n",
       "      <td>5</td>\n",
       "      <td>0</td>\n",
       "      <td>3</td>\n",
       "      <td>Allen, Mr. William Henry</td>\n",
       "      <td>male</td>\n",
       "      <td>35.0</td>\n",
       "      <td>0</td>\n",
       "      <td>0</td>\n",
       "      <td>373450</td>\n",
       "      <td>8.0500</td>\n",
       "      <td>NaN</td>\n",
       "      <td>S</td>\n",
       "    </tr>\n",
       "  </tbody>\n",
       "</table>\n",
       "</div>"
      ],
      "text/plain": [
       "   PassengerId  Survived  Pclass  \\\n",
       "0            1         0       3   \n",
       "1            2         1       1   \n",
       "2            3         1       3   \n",
       "3            4         1       1   \n",
       "4            5         0       3   \n",
       "\n",
       "                                                Name     Sex   Age  SibSp  \\\n",
       "0                            Braund, Mr. Owen Harris    male  22.0      1   \n",
       "1  Cumings, Mrs. John Bradley (Florence Briggs Th...  female  38.0      1   \n",
       "2                             Heikkinen, Miss. Laina  female  26.0      0   \n",
       "3       Futrelle, Mrs. Jacques Heath (Lily May Peel)  female  35.0      1   \n",
       "4                           Allen, Mr. William Henry    male  35.0      0   \n",
       "\n",
       "   Parch            Ticket     Fare Cabin Embarked  \n",
       "0      0         A/5 21171   7.2500   NaN        S  \n",
       "1      0          PC 17599  71.2833   C85        C  \n",
       "2      0  STON/O2. 3101282   7.9250   NaN        S  \n",
       "3      0            113803  53.1000  C123        S  \n",
       "4      0            373450   8.0500   NaN        S  "
      ]
     },
     "execution_count": 6,
     "metadata": {},
     "output_type": "execute_result"
    }
   ],
   "source": [
    "titanic_df.head()"
   ]
  },
  {
   "cell_type": "markdown",
   "metadata": {},
   "source": [
    "## Campos del dataset\n",
    "- PassengerId: Id único de cada pasajero.\n",
    "- **Survived**: Determina si un pasajero sobrevivió (1) o no (0). *Este será nuestro conjunto y*\n",
    "- Pclass: Clase del tiquete.\n",
    "- Name: Nombre del pasajero.\n",
    "- Sex: Sexo del pasajero.\n",
    "- Age: Edad del pasajero.\n",
    "- SibSp: # de hermanas / cónyuges a bordo del Titanic.\n",
    "- Parch: # de padres / hijos a bordo del Titanic.\n",
    "- Ticket: Número del tiquete.\n",
    "- Fare: Valor pagado por el tiquete.\n",
    "- Cabin: Indica cubierta donde estaba ubicado el pasajero.\n",
    "- Embarked: Puerto de embarcación al Titanic."
   ]
  },
  {
   "cell_type": "markdown",
   "metadata": {},
   "source": [
    "## Proceso de limpieza y modificación de datos"
   ]
  },
  {
   "cell_type": "markdown",
   "metadata": {},
   "source": [
    "### Cast de datos de algunas columnas\n",
    "- Sex\n",
    "- Embarked"
   ]
  },
  {
   "cell_type": "code",
   "execution_count": 7,
   "metadata": {},
   "outputs": [],
   "source": [
    "titanic_df['Sex'].replace(['female', 'male'], [0, 1], inplace=True)\n",
    "titanic_df['Embarked'].replace(['Q', 'S', 'C'], [0, 1, 2], inplace=True)"
   ]
  },
  {
   "cell_type": "markdown",
   "metadata": {},
   "source": [
    "### Datos vacíos de edad\n",
    "Se reemplazan por la media de las edades."
   ]
  },
  {
   "cell_type": "code",
   "execution_count": 8,
   "metadata": {},
   "outputs": [],
   "source": [
    "age_mean = titanic_df['Age'].mean()\n",
    "titanic_df['Age'] = titanic_df['Age'].replace(np.nan, age_mean)"
   ]
  },
  {
   "cell_type": "markdown",
   "metadata": {},
   "source": [
    "### Segmentos de edades a un solo valor\n",
    "Se reemplazan los segmentos tipo 8-15 por un solo valor."
   ]
  },
  {
   "cell_type": "code",
   "execution_count": 9,
   "metadata": {},
   "outputs": [],
   "source": [
    "bins = [0, 8, 15, 18, 25, 40, 60, 100]\n",
    "values = ['1', '2', '3', '4', '5', '6', '7']\n",
    "titanic_df['Age'] = pd.cut(titanic_df['Age'], bins, labels=values)"
   ]
  },
  {
   "cell_type": "markdown",
   "metadata": {},
   "source": [
    "### Eliminación columnas\n",
    "- Se elimina la columna Cabin puesto que tiene muchos datos perdidos.\n",
    "- Se elimina la columna Name porque no influye en el análisis.\n",
    "- Se elimina la columna Ticket porque no influye en el análisis.\n",
    "- Se elimina la columna PassengerId porque no influye en el análisis."
   ]
  },
  {
   "cell_type": "code",
   "execution_count": 10,
   "metadata": {},
   "outputs": [
    {
     "name": "stdout",
     "output_type": "stream",
     "text": [
      "Datos perdidos = 687\n"
     ]
    }
   ],
   "source": [
    "print('Datos perdidos = ' + str(titanic_df['Cabin'].isnull().sum()))"
   ]
  },
  {
   "cell_type": "code",
   "execution_count": 11,
   "metadata": {},
   "outputs": [],
   "source": [
    "titanic_df.drop(['Cabin'], axis=1, inplace=True)\n",
    "titanic_df.drop(['Name'], axis=1, inplace=True)\n",
    "titanic_df.drop(['Ticket'], axis=1, inplace=True)\n",
    "titanic_df.drop(['PassengerId'], axis=1, inplace=True)"
   ]
  },
  {
   "cell_type": "markdown",
   "metadata": {},
   "source": [
    "### Eliminación filas\n",
    "Se eliminan las filas con valores vacíos."
   ]
  },
  {
   "cell_type": "code",
   "execution_count": 12,
   "metadata": {},
   "outputs": [],
   "source": [
    "titanic_df.dropna(axis=0, how='any', inplace=True)"
   ]
  },
  {
   "cell_type": "markdown",
   "metadata": {},
   "source": [
    "## Información básica del dataset"
   ]
  },
  {
   "cell_type": "code",
   "execution_count": 11,
   "metadata": {},
   "outputs": [
    {
     "name": "stdout",
     "output_type": "stream",
     "text": [
      "<class 'pandas.core.frame.DataFrame'>\n",
      "Int64Index: 889 entries, 0 to 890\n",
      "Data columns (total 8 columns):\n",
      " #   Column    Non-Null Count  Dtype   \n",
      "---  ------    --------------  -----   \n",
      " 0   Survived  889 non-null    int64   \n",
      " 1   Pclass    889 non-null    int64   \n",
      " 2   Sex       889 non-null    int64   \n",
      " 3   Age       889 non-null    category\n",
      " 4   SibSp     889 non-null    int64   \n",
      " 5   Parch     889 non-null    int64   \n",
      " 6   Fare      889 non-null    float64 \n",
      " 7   Embarked  889 non-null    float64 \n",
      "dtypes: category(1), float64(2), int64(5)\n",
      "memory usage: 56.8 KB\n"
     ]
    }
   ],
   "source": [
    "titanic_df.info()"
   ]
  },
  {
   "cell_type": "markdown",
   "metadata": {},
   "source": [
    "### Columnas"
   ]
  },
  {
   "cell_type": "code",
   "execution_count": 12,
   "metadata": {},
   "outputs": [
    {
     "data": {
      "text/plain": [
       "Index(['Survived', 'Pclass', 'Sex', 'Age', 'SibSp', 'Parch', 'Fare',\n",
       "       'Embarked'],\n",
       "      dtype='object')"
      ]
     },
     "execution_count": 12,
     "metadata": {},
     "output_type": "execute_result"
    }
   ],
   "source": [
    "titanic_df.columns"
   ]
  },
  {
   "cell_type": "markdown",
   "metadata": {},
   "source": [
    "### Shape"
   ]
  },
  {
   "cell_type": "code",
   "execution_count": 13,
   "metadata": {},
   "outputs": [
    {
     "name": "stdout",
     "output_type": "stream",
     "text": [
      "Shape: (889, 8)\n"
     ]
    }
   ],
   "source": [
    "print('Shape: ' + str(titanic_df.shape))"
   ]
  },
  {
   "cell_type": "markdown",
   "metadata": {},
   "source": [
    "### Algunos datos estadísticos\n",
    "Solo de las columnas numéricas"
   ]
  },
  {
   "cell_type": "code",
   "execution_count": 15,
   "metadata": {
    "scrolled": true
   },
   "outputs": [
    {
     "data": {
      "text/html": [
       "<div>\n",
       "<style scoped>\n",
       "    .dataframe tbody tr th:only-of-type {\n",
       "        vertical-align: middle;\n",
       "    }\n",
       "\n",
       "    .dataframe tbody tr th {\n",
       "        vertical-align: top;\n",
       "    }\n",
       "\n",
       "    .dataframe thead th {\n",
       "        text-align: right;\n",
       "    }\n",
       "</style>\n",
       "<table border=\"1\" class=\"dataframe\">\n",
       "  <thead>\n",
       "    <tr style=\"text-align: right;\">\n",
       "      <th></th>\n",
       "      <th>Survived</th>\n",
       "      <th>Pclass</th>\n",
       "      <th>Sex</th>\n",
       "      <th>SibSp</th>\n",
       "      <th>Parch</th>\n",
       "      <th>Fare</th>\n",
       "      <th>Embarked</th>\n",
       "    </tr>\n",
       "  </thead>\n",
       "  <tbody>\n",
       "    <tr>\n",
       "      <th>count</th>\n",
       "      <td>889.000000</td>\n",
       "      <td>889.000000</td>\n",
       "      <td>889.000000</td>\n",
       "      <td>889.000000</td>\n",
       "      <td>889.000000</td>\n",
       "      <td>889.000000</td>\n",
       "      <td>889.000000</td>\n",
       "    </tr>\n",
       "    <tr>\n",
       "      <th>mean</th>\n",
       "      <td>0.382452</td>\n",
       "      <td>2.311586</td>\n",
       "      <td>0.649044</td>\n",
       "      <td>0.524184</td>\n",
       "      <td>0.382452</td>\n",
       "      <td>32.096681</td>\n",
       "      <td>1.102362</td>\n",
       "    </tr>\n",
       "    <tr>\n",
       "      <th>std</th>\n",
       "      <td>0.486260</td>\n",
       "      <td>0.834700</td>\n",
       "      <td>0.477538</td>\n",
       "      <td>1.103705</td>\n",
       "      <td>0.806761</td>\n",
       "      <td>49.697504</td>\n",
       "      <td>0.515181</td>\n",
       "    </tr>\n",
       "    <tr>\n",
       "      <th>min</th>\n",
       "      <td>0.000000</td>\n",
       "      <td>1.000000</td>\n",
       "      <td>0.000000</td>\n",
       "      <td>0.000000</td>\n",
       "      <td>0.000000</td>\n",
       "      <td>0.000000</td>\n",
       "      <td>0.000000</td>\n",
       "    </tr>\n",
       "    <tr>\n",
       "      <th>25%</th>\n",
       "      <td>0.000000</td>\n",
       "      <td>2.000000</td>\n",
       "      <td>0.000000</td>\n",
       "      <td>0.000000</td>\n",
       "      <td>0.000000</td>\n",
       "      <td>7.895800</td>\n",
       "      <td>1.000000</td>\n",
       "    </tr>\n",
       "    <tr>\n",
       "      <th>50%</th>\n",
       "      <td>0.000000</td>\n",
       "      <td>3.000000</td>\n",
       "      <td>1.000000</td>\n",
       "      <td>0.000000</td>\n",
       "      <td>0.000000</td>\n",
       "      <td>14.454200</td>\n",
       "      <td>1.000000</td>\n",
       "    </tr>\n",
       "    <tr>\n",
       "      <th>75%</th>\n",
       "      <td>1.000000</td>\n",
       "      <td>3.000000</td>\n",
       "      <td>1.000000</td>\n",
       "      <td>1.000000</td>\n",
       "      <td>0.000000</td>\n",
       "      <td>31.000000</td>\n",
       "      <td>1.000000</td>\n",
       "    </tr>\n",
       "    <tr>\n",
       "      <th>max</th>\n",
       "      <td>1.000000</td>\n",
       "      <td>3.000000</td>\n",
       "      <td>1.000000</td>\n",
       "      <td>8.000000</td>\n",
       "      <td>6.000000</td>\n",
       "      <td>512.329200</td>\n",
       "      <td>2.000000</td>\n",
       "    </tr>\n",
       "  </tbody>\n",
       "</table>\n",
       "</div>"
      ],
      "text/plain": [
       "         Survived      Pclass         Sex       SibSp       Parch        Fare  \\\n",
       "count  889.000000  889.000000  889.000000  889.000000  889.000000  889.000000   \n",
       "mean     0.382452    2.311586    0.649044    0.524184    0.382452   32.096681   \n",
       "std      0.486260    0.834700    0.477538    1.103705    0.806761   49.697504   \n",
       "min      0.000000    1.000000    0.000000    0.000000    0.000000    0.000000   \n",
       "25%      0.000000    2.000000    0.000000    0.000000    0.000000    7.895800   \n",
       "50%      0.000000    3.000000    1.000000    0.000000    0.000000   14.454200   \n",
       "75%      1.000000    3.000000    1.000000    1.000000    0.000000   31.000000   \n",
       "max      1.000000    3.000000    1.000000    8.000000    6.000000  512.329200   \n",
       "\n",
       "         Embarked  \n",
       "count  889.000000  \n",
       "mean     1.102362  \n",
       "std      0.515181  \n",
       "min      0.000000  \n",
       "25%      1.000000  \n",
       "50%      1.000000  \n",
       "75%      1.000000  \n",
       "max      2.000000  "
      ]
     },
     "execution_count": 15,
     "metadata": {},
     "output_type": "execute_result"
    }
   ],
   "source": [
    "titanic_df.describe()"
   ]
  },
  {
   "cell_type": "markdown",
   "metadata": {},
   "source": [
    "# Machine Learning"
   ]
  },
  {
   "cell_type": "code",
   "execution_count": 13,
   "metadata": {},
   "outputs": [],
   "source": [
    "from sklearn.model_selection import train_test_split\n",
    "#Métodos\n",
    "from sklearn.linear_model import LogisticRegression, SGDClassifier\n",
    "from sklearn.ensemble import RandomForestClassifier\n",
    "from sklearn.svm import SVC\n",
    "from sklearn.neighbors import KNeighborsClassifier\n",
    "#Reportes\n",
    "from sklearn.metrics import classification_report, accuracy_score, precision_score\n",
    "from sklearn.metrics import confusion_matrix, f1_score, mean_squared_error, roc_auc_score\n",
    "#Tiempo\n",
    "import time\n",
    "#Graficas\n",
    "import matplotlib.pyplot as plt\n",
    "import csv\n",
    "import seaborn as sns"
   ]
  },
  {
   "cell_type": "markdown",
   "metadata": {},
   "source": [
    "## Separación X y y"
   ]
  },
  {
   "cell_type": "code",
   "execution_count": 14,
   "metadata": {},
   "outputs": [],
   "source": [
    "X = np.array(titanic_df.drop(['Survived'], 1))\n",
    "y = np.array(titanic_df['Survived'])"
   ]
  },
  {
   "cell_type": "code",
   "execution_count": 15,
   "metadata": {},
   "outputs": [
    {
     "name": "stdout",
     "output_type": "stream",
     "text": [
      "(889, 7)\n",
      "(889,)\n"
     ]
    }
   ],
   "source": [
    "print(X.shape)\n",
    "print(y.shape)"
   ]
  },
  {
   "cell_type": "markdown",
   "metadata": {},
   "source": [
    "Se separan los datos en train y test."
   ]
  },
  {
   "cell_type": "code",
   "execution_count": 16,
   "metadata": {},
   "outputs": [],
   "source": [
    "X_train, X_test, y_train, y_test = train_test_split(X, y, test_size=0.3, random_state=0)"
   ]
  },
  {
   "cell_type": "code",
   "execution_count": 20,
   "metadata": {},
   "outputs": [
    {
     "name": "stdout",
     "output_type": "stream",
     "text": [
      "(622, 7)\n",
      "(267, 7)\n"
     ]
    }
   ],
   "source": [
    "print(X_train.shape)\n",
    "print(X_test.shape)"
   ]
  },
  {
   "cell_type": "markdown",
   "metadata": {},
   "source": [
    "### Métricas\n",
    "Esta función se define para tener los valores de tiempo de ejecución, matriz de confusión, score en el entrenamiento, accuracy, precisiom, sensivity, specificity,  así como f1 score, y MSE. Todos estos valores se entregan se imprimen y se almacenan en un .csv (Diferenciando cada método)."
   ]
  },
  {
   "cell_type": "code",
   "execution_count": 53,
   "metadata": {},
   "outputs": [],
   "source": [
    "def metricas (X_train, y_train, y_test, y_pred, time_ml, method):\n",
    "    time_exec = str(time_ml)\n",
    "    print('Tiempo de ejecución = ' + time_exec)\n",
    "    print('\\n')\n",
    "    print('Matriz de confusión')\n",
    "    tn, fp, fn, tp = confusion_matrix(y_test, y_pred).ravel()\n",
    "    print(confusion_matrix(y_test, y_pred))\n",
    "    print('\\n')\n",
    "    if method == 'reg_log':\n",
    "        score_train = str(log_reg.score(X_train, y_train))\n",
    "    elif method == 'svm':\n",
    "        score_train = str(svc.score(X_train, y_train))\n",
    "    elif method == 'knn':\n",
    "        score_train = str(knn.score(X_train, y_train))\n",
    "    elif method == 'rand_for':\n",
    "        score_train = str(rfm.score(X_train, y_train))\n",
    "    elif method == 'sgd':\n",
    "        score_train = str(sgd.score(X_train, y_train))\n",
    "    print('Score train = ' + score_train)\n",
    "    print('\\n')\n",
    "    acc_test = str(accuracy_score(y_test, y_pred))\n",
    "    print('Accuracy test = ' + acc_test)\n",
    "    prec_test = str(precision_score(y_test, y_pred))\n",
    "    print('Precision test = ' + prec_test)\n",
    "    sens_test = str(tp/(tp+fn))\n",
    "    print('Sensivity test = ' + sens_test)\n",
    "    spec_test = str(tn/(tn+fp))\n",
    "    print('Specificity test = ' + spec_test)\n",
    "    \n",
    "    f1_scor = str(f1_score(y_test, y_pred))\n",
    "    print('F1 Score = ' + f1_scor)\n",
    "    mserror = str(mean_squared_error(y_test, y_pred))\n",
    "    print('Mean Squared Error = ' + mserror)\n",
    "    \n",
    "    metricas = [score_train, acc_test, prec_test, sens_test, spec_test, f1_scor, mserror, time_exec, method]\n",
    "    #print(metricas)\n",
    "    headers = ['score_train', 'acc_test','prec_test', 'sens_test', 'spec_test', 'f1_scor', 'mserror', 'time', 'method']\n",
    "    metricas_df = pd.DataFrame([metricas], columns = headers)\n",
    "    metricas_df.head()\n",
    "    \n",
    "    with open('results.csv', mode='a') as write_file:\n",
    "        writer_file = csv.writer(write_file, delimiter=',')\n",
    "        writer_file.writerow(metricas)\n",
    "        #df_results = pd.DataFrame.to_csv(metricas_df, 'results.csv')\n",
    "        \n",
    "def labels_csv():\n",
    "    headers = ['score_train', 'acc_test','prec_test', 'sens_test', 'spec_test', 'f1_scor', 'mserror', 'time', 'method']\n",
    "    with open('results.csv', mode='w') as write_file:\n",
    "        writer_file = csv.writer(write_file, delimiter=',')\n",
    "        writer_file.writerow(headers)"
   ]
  },
  {
   "cell_type": "markdown",
   "metadata": {},
   "source": [
    "## Regresión logística"
   ]
  },
  {
   "cell_type": "code",
   "execution_count": 54,
   "metadata": {},
   "outputs": [],
   "source": [
    "start = time.time()\n",
    "\n",
    "log_reg = LogisticRegression(max_iter=1000)\n",
    "log_reg.fit(X_train, y_train)\n",
    "y_pred = log_reg.predict(X_test)\n",
    "\n",
    "end = time.time()\n",
    "time_ml = end - start"
   ]
  },
  {
   "cell_type": "code",
   "execution_count": 55,
   "metadata": {},
   "outputs": [
    {
     "name": "stdout",
     "output_type": "stream",
     "text": [
      "Tiempo de ejecución = 0.03164935111999512\n",
      "\n",
      "\n",
      "Matriz de confusión\n",
      "[[136  21]\n",
      " [ 34  76]]\n",
      "\n",
      "\n",
      "Score train = 0.8263665594855305\n",
      "\n",
      "\n",
      "Accuracy test = 0.7940074906367042\n",
      "Precision test = 0.7835051546391752\n",
      "Sensivity test = 0.6909090909090909\n",
      "Specificity test = 0.8662420382165605\n",
      "F1 Score = 0.7342995169082126\n",
      "Mean Squared Error = 0.20599250936329588\n"
     ]
    }
   ],
   "source": [
    "labels_csv()\n",
    "metricas(X_train, y_train, y_test, y_pred, time_ml, 'reg_log')"
   ]
  },
  {
   "cell_type": "markdown",
   "metadata": {},
   "source": [
    "### Área bajo la curva"
   ]
  },
  {
   "cell_type": "code",
   "execution_count": 56,
   "metadata": {},
   "outputs": [
    {
     "data": {
      "text/plain": [
       "0.7785755645628257"
      ]
     },
     "execution_count": 56,
     "metadata": {},
     "output_type": "execute_result"
    }
   ],
   "source": [
    "roc_auc_score(y_test, y_pred)"
   ]
  },
  {
   "cell_type": "markdown",
   "metadata": {},
   "source": [
    "## Support Vector Machines"
   ]
  },
  {
   "cell_type": "code",
   "execution_count": 57,
   "metadata": {},
   "outputs": [],
   "source": [
    "start = time.time()\n",
    "\n",
    "svc = SVC(kernel='linear')\n",
    "svc.fit(X_train, y_train)\n",
    "y_pred = svc.predict(X_test)\n",
    "\n",
    "end = time.time()\n",
    "time_ml = end - start"
   ]
  },
  {
   "cell_type": "code",
   "execution_count": 58,
   "metadata": {},
   "outputs": [
    {
     "name": "stdout",
     "output_type": "stream",
     "text": [
      "Tiempo de ejecución = 0.9122257232666016\n",
      "\n",
      "\n",
      "Matriz de confusión\n",
      "[[132  25]\n",
      " [ 36  74]]\n",
      "\n",
      "\n",
      "Score train = 0.8022508038585209\n",
      "\n",
      "\n",
      "Accuracy test = 0.7715355805243446\n",
      "Precision test = 0.7474747474747475\n",
      "Sensivity test = 0.6727272727272727\n",
      "Specificity test = 0.8407643312101911\n",
      "F1 Score = 0.708133971291866\n",
      "Mean Squared Error = 0.22846441947565543\n"
     ]
    }
   ],
   "source": [
    "metricas(X_train, y_train, y_test, y_pred, time_ml, 'svm')"
   ]
  },
  {
   "cell_type": "markdown",
   "metadata": {},
   "source": [
    "### Área bajo la curva"
   ]
  },
  {
   "cell_type": "code",
   "execution_count": 59,
   "metadata": {},
   "outputs": [
    {
     "data": {
      "text/plain": [
       "0.756745801968732"
      ]
     },
     "execution_count": 59,
     "metadata": {},
     "output_type": "execute_result"
    }
   ],
   "source": [
    "roc_auc_score(y_test, y_pred)"
   ]
  },
  {
   "cell_type": "markdown",
   "metadata": {},
   "source": [
    "## K Neighbors"
   ]
  },
  {
   "cell_type": "code",
   "execution_count": 60,
   "metadata": {},
   "outputs": [],
   "source": [
    "start = time.time()\n",
    "\n",
    "knn = KNeighborsClassifier(n_neighbors=3, algorithm='kd_tree', weights='uniform')\n",
    "knn.fit(X_train, y_train)\n",
    "y_pred = knn.predict(X_test)\n",
    "\n",
    "end = time.time()\n",
    "time_ml = end - start"
   ]
  },
  {
   "cell_type": "code",
   "execution_count": 61,
   "metadata": {},
   "outputs": [
    {
     "name": "stdout",
     "output_type": "stream",
     "text": [
      "Tiempo de ejecución = 0.011999845504760742\n",
      "\n",
      "\n",
      "Matriz de confusión\n",
      "[[122  35]\n",
      " [ 35  75]]\n",
      "\n",
      "\n",
      "Score train = 0.8745980707395499\n",
      "\n",
      "\n",
      "Accuracy test = 0.7378277153558053\n",
      "Precision test = 0.6818181818181818\n",
      "Sensivity test = 0.6818181818181818\n",
      "Specificity test = 0.7770700636942676\n",
      "F1 Score = 0.6818181818181818\n",
      "Mean Squared Error = 0.26217228464419473\n"
     ]
    }
   ],
   "source": [
    "metricas(X_train, y_train, y_test, y_pred, time_ml, 'knn')"
   ]
  },
  {
   "cell_type": "markdown",
   "metadata": {},
   "source": [
    "### Área bajo la curva"
   ]
  },
  {
   "cell_type": "code",
   "execution_count": 62,
   "metadata": {},
   "outputs": [
    {
     "data": {
      "text/plain": [
       "0.7294441227562246"
      ]
     },
     "execution_count": 62,
     "metadata": {},
     "output_type": "execute_result"
    }
   ],
   "source": [
    "roc_auc_score(y_test, y_pred)"
   ]
  },
  {
   "cell_type": "markdown",
   "metadata": {},
   "source": [
    "## Random Forest"
   ]
  },
  {
   "cell_type": "code",
   "execution_count": 63,
   "metadata": {},
   "outputs": [],
   "source": [
    "start = time.time()\n",
    "\n",
    "rfm = RandomForestClassifier(n_estimators=70, oob_score=True, n_jobs=-1, random_state=101, max_features=None, min_samples_leaf=1)\n",
    "rfm.fit(X_train, y_train)\n",
    "y_pred=rfm.predict(X_test)\n",
    "\n",
    "end = time.time()\n",
    "time_ml = end - start"
   ]
  },
  {
   "cell_type": "code",
   "execution_count": 64,
   "metadata": {},
   "outputs": [
    {
     "name": "stdout",
     "output_type": "stream",
     "text": [
      "Tiempo de ejecución = 0.12302231788635254\n",
      "\n",
      "\n",
      "Matriz de confusión\n",
      "[[132  25]\n",
      " [ 30  80]]\n",
      "\n",
      "\n",
      "Score train = 0.9501607717041801\n",
      "\n",
      "\n",
      "Accuracy test = 0.7940074906367042\n",
      "Precision test = 0.7619047619047619\n",
      "Sensivity test = 0.7272727272727273\n",
      "Specificity test = 0.8407643312101911\n",
      "F1 Score = 0.7441860465116279\n",
      "Mean Squared Error = 0.20599250936329588\n"
     ]
    }
   ],
   "source": [
    "metricas(X_train, y_train, y_test, y_pred, time_ml, 'rand_for')"
   ]
  },
  {
   "cell_type": "markdown",
   "metadata": {},
   "source": [
    "### Área bajo la curva"
   ]
  },
  {
   "cell_type": "code",
   "execution_count": 65,
   "metadata": {},
   "outputs": [
    {
     "data": {
      "text/plain": [
       "0.7840185292414592"
      ]
     },
     "execution_count": 65,
     "metadata": {},
     "output_type": "execute_result"
    }
   ],
   "source": [
    "roc_auc_score(y_test, y_pred)"
   ]
  },
  {
   "cell_type": "markdown",
   "metadata": {},
   "source": [
    "## SGD"
   ]
  },
  {
   "cell_type": "code",
   "execution_count": 66,
   "metadata": {},
   "outputs": [],
   "source": [
    "start = time.time()\n",
    "\n",
    "sgd =  SGDClassifier(loss='hinge', shuffle=True,random_state=101)\n",
    "sgd.fit(X_train, y_train)\n",
    "y_pred=sgd.predict(X_test)\n",
    "\n",
    "end = time.time()\n",
    "time_ml = end - start"
   ]
  },
  {
   "cell_type": "code",
   "execution_count": 67,
   "metadata": {
    "scrolled": false
   },
   "outputs": [
    {
     "name": "stdout",
     "output_type": "stream",
     "text": [
      "Tiempo de ejecución = 0.006484031677246094\n",
      "\n",
      "\n",
      "Matriz de confusión\n",
      "[[125  32]\n",
      " [ 33  77]]\n",
      "\n",
      "\n",
      "Score train = 0.8118971061093248\n",
      "\n",
      "\n",
      "Accuracy test = 0.7565543071161048\n",
      "Precision test = 0.7064220183486238\n",
      "Sensivity test = 0.7\n",
      "Specificity test = 0.7961783439490446\n",
      "F1 Score = 0.7031963470319634\n",
      "Mean Squared Error = 0.24344569288389514\n"
     ]
    }
   ],
   "source": [
    "metricas(X_train, y_train, y_test, y_pred, time_ml, 'sgd')"
   ]
  },
  {
   "cell_type": "markdown",
   "metadata": {},
   "source": [
    "### Área bajo la curva"
   ]
  },
  {
   "cell_type": "code",
   "execution_count": 68,
   "metadata": {},
   "outputs": [
    {
     "data": {
      "text/plain": [
       "0.7480891719745223"
      ]
     },
     "execution_count": 68,
     "metadata": {},
     "output_type": "execute_result"
    }
   ],
   "source": [
    "roc_auc_score(y_test, y_pred)"
   ]
  },
  {
   "cell_type": "markdown",
   "metadata": {},
   "source": [
    "## Gráficas"
   ]
  },
  {
   "cell_type": "markdown",
   "metadata": {},
   "source": [
    "## Antes de tunear hiper-parámetros"
   ]
  },
  {
   "cell_type": "code",
   "execution_count": 69,
   "metadata": {},
   "outputs": [],
   "source": [
    "results_initial_df = pd.read_csv('results_initial.csv')"
   ]
  },
  {
   "cell_type": "code",
   "execution_count": 70,
   "metadata": {},
   "outputs": [
    {
     "data": {
      "text/html": [
       "<div>\n",
       "<style scoped>\n",
       "    .dataframe tbody tr th:only-of-type {\n",
       "        vertical-align: middle;\n",
       "    }\n",
       "\n",
       "    .dataframe tbody tr th {\n",
       "        vertical-align: top;\n",
       "    }\n",
       "\n",
       "    .dataframe thead th {\n",
       "        text-align: right;\n",
       "    }\n",
       "</style>\n",
       "<table border=\"1\" class=\"dataframe\">\n",
       "  <thead>\n",
       "    <tr style=\"text-align: right;\">\n",
       "      <th></th>\n",
       "      <th>score_train</th>\n",
       "      <th>acc_test</th>\n",
       "      <th>prec_test</th>\n",
       "      <th>sens_test</th>\n",
       "      <th>spec_test</th>\n",
       "      <th>f1_scor</th>\n",
       "      <th>mserror</th>\n",
       "      <th>time</th>\n",
       "      <th>method</th>\n",
       "    </tr>\n",
       "  </thead>\n",
       "  <tbody>\n",
       "    <tr>\n",
       "      <th>0</th>\n",
       "      <td>0.826367</td>\n",
       "      <td>0.794007</td>\n",
       "      <td>0.783505</td>\n",
       "      <td>0.690909</td>\n",
       "      <td>0.866242</td>\n",
       "      <td>0.734300</td>\n",
       "      <td>0.205993</td>\n",
       "      <td>0.030045</td>\n",
       "      <td>reg_log</td>\n",
       "    </tr>\n",
       "    <tr>\n",
       "      <th>1</th>\n",
       "      <td>0.802251</td>\n",
       "      <td>0.629213</td>\n",
       "      <td>0.617021</td>\n",
       "      <td>0.263636</td>\n",
       "      <td>0.885350</td>\n",
       "      <td>0.369427</td>\n",
       "      <td>0.370787</td>\n",
       "      <td>0.013098</td>\n",
       "      <td>svm</td>\n",
       "    </tr>\n",
       "    <tr>\n",
       "      <th>2</th>\n",
       "      <td>0.874598</td>\n",
       "      <td>0.737828</td>\n",
       "      <td>0.681818</td>\n",
       "      <td>0.681818</td>\n",
       "      <td>0.777070</td>\n",
       "      <td>0.681818</td>\n",
       "      <td>0.262172</td>\n",
       "      <td>0.010212</td>\n",
       "      <td>knn</td>\n",
       "    </tr>\n",
       "    <tr>\n",
       "      <th>3</th>\n",
       "      <td>0.950161</td>\n",
       "      <td>0.764045</td>\n",
       "      <td>0.790123</td>\n",
       "      <td>0.581818</td>\n",
       "      <td>0.891720</td>\n",
       "      <td>0.670157</td>\n",
       "      <td>0.235955</td>\n",
       "      <td>0.116731</td>\n",
       "      <td>rand_for</td>\n",
       "    </tr>\n",
       "    <tr>\n",
       "      <th>4</th>\n",
       "      <td>0.811897</td>\n",
       "      <td>0.689139</td>\n",
       "      <td>0.728814</td>\n",
       "      <td>0.390909</td>\n",
       "      <td>0.898089</td>\n",
       "      <td>0.508876</td>\n",
       "      <td>0.310861</td>\n",
       "      <td>0.006156</td>\n",
       "      <td>sgd</td>\n",
       "    </tr>\n",
       "  </tbody>\n",
       "</table>\n",
       "</div>"
      ],
      "text/plain": [
       "   score_train  acc_test  prec_test  sens_test  spec_test   f1_scor   mserror  \\\n",
       "0     0.826367  0.794007   0.783505   0.690909   0.866242  0.734300  0.205993   \n",
       "1     0.802251  0.629213   0.617021   0.263636   0.885350  0.369427  0.370787   \n",
       "2     0.874598  0.737828   0.681818   0.681818   0.777070  0.681818  0.262172   \n",
       "3     0.950161  0.764045   0.790123   0.581818   0.891720  0.670157  0.235955   \n",
       "4     0.811897  0.689139   0.728814   0.390909   0.898089  0.508876  0.310861   \n",
       "\n",
       "       time    method  \n",
       "0  0.030045   reg_log  \n",
       "1  0.013098       svm  \n",
       "2  0.010212       knn  \n",
       "3  0.116731  rand_for  \n",
       "4  0.006156       sgd  "
      ]
     },
     "execution_count": 70,
     "metadata": {},
     "output_type": "execute_result"
    }
   ],
   "source": [
    "results_initial_df"
   ]
  },
  {
   "cell_type": "code",
   "execution_count": 71,
   "metadata": {},
   "outputs": [
    {
     "data": {
      "text/plain": [
       "Text(0, 0.5, 'Time (s)')"
      ]
     },
     "execution_count": 71,
     "metadata": {},
     "output_type": "execute_result"
    },
    {
     "data": {
      "image/png": "[encoded data removed]",
      "text/plain": [
       "<Figure size 432x288 with 1 Axes>"
      ]
     },
     "metadata": {
      "needs_background": "light"
     },
     "output_type": "display_data"
    }
   ],
   "source": [
    "plt.plot(results_initial_df.method, results_initial_df.time, 'b-', marker='o')\n",
    "plt.xlabel('Algorithms')\n",
    "plt.ylabel(\"Time (s)\")"
   ]
  },
  {
   "cell_type": "code",
   "execution_count": 72,
   "metadata": {},
   "outputs": [
    {
     "data": {
      "text/plain": [
       "<matplotlib.legend.Legend at 0x7f634a572d30>"
      ]
     },
     "execution_count": 72,
     "metadata": {},
     "output_type": "execute_result"
    },
    {
     "data": {
      "image/png": "[encoded data removed]",
      "text/plain": [
       "<Figure size 864x576 with 1 Axes>"
      ]
     },
     "metadata": {
      "needs_background": "light"
     },
     "output_type": "display_data"
    }
   ],
   "source": [
    "plt.figure(figsize=(12, 8))\n",
    "plt.plot(results_initial_df.method, results_initial_df.acc_test, 'b-', marker='o')\n",
    "plt.plot(results_initial_df.method, results_initial_df.prec_test, 'r--', marker='o')\n",
    "plt.plot(results_initial_df.method, results_initial_df.sens_test, 'g-', marker='o')\n",
    "plt.plot(results_initial_df.method, results_initial_df.spec_test, 'y--', marker='o')\n",
    "\n",
    "plt.xlabel('Algorithm')\n",
    "plt.legend(['Accuracy', 'Precission', 'Sensitivity', 'Specificity'])"
   ]
  },
  {
   "cell_type": "markdown",
   "metadata": {},
   "source": [
    "## Después de tunear hiper-parámetros"
   ]
  },
  {
   "cell_type": "code",
   "execution_count": 73,
   "metadata": {},
   "outputs": [],
   "source": [
    "results_df = pd.read_csv('results.csv')"
   ]
  },
  {
   "cell_type": "code",
   "execution_count": 74,
   "metadata": {},
   "outputs": [
    {
     "data": {
      "text/html": [
       "<div>\n",
       "<style scoped>\n",
       "    .dataframe tbody tr th:only-of-type {\n",
       "        vertical-align: middle;\n",
       "    }\n",
       "\n",
       "    .dataframe tbody tr th {\n",
       "        vertical-align: top;\n",
       "    }\n",
       "\n",
       "    .dataframe thead th {\n",
       "        text-align: right;\n",
       "    }\n",
       "</style>\n",
       "<table border=\"1\" class=\"dataframe\">\n",
       "  <thead>\n",
       "    <tr style=\"text-align: right;\">\n",
       "      <th></th>\n",
       "      <th>score_train</th>\n",
       "      <th>acc_test</th>\n",
       "      <th>prec_test</th>\n",
       "      <th>sens_test</th>\n",
       "      <th>spec_test</th>\n",
       "      <th>f1_scor</th>\n",
       "      <th>mserror</th>\n",
       "      <th>time</th>\n",
       "      <th>method</th>\n",
       "    </tr>\n",
       "  </thead>\n",
       "  <tbody>\n",
       "    <tr>\n",
       "      <th>0</th>\n",
       "      <td>0.826367</td>\n",
       "      <td>0.794007</td>\n",
       "      <td>0.783505</td>\n",
       "      <td>0.690909</td>\n",
       "      <td>0.866242</td>\n",
       "      <td>0.734300</td>\n",
       "      <td>0.205993</td>\n",
       "      <td>0.031649</td>\n",
       "      <td>reg_log</td>\n",
       "    </tr>\n",
       "    <tr>\n",
       "      <th>1</th>\n",
       "      <td>0.802251</td>\n",
       "      <td>0.771536</td>\n",
       "      <td>0.747475</td>\n",
       "      <td>0.672727</td>\n",
       "      <td>0.840764</td>\n",
       "      <td>0.708134</td>\n",
       "      <td>0.228464</td>\n",
       "      <td>0.912226</td>\n",
       "      <td>svm</td>\n",
       "    </tr>\n",
       "    <tr>\n",
       "      <th>2</th>\n",
       "      <td>0.874598</td>\n",
       "      <td>0.737828</td>\n",
       "      <td>0.681818</td>\n",
       "      <td>0.681818</td>\n",
       "      <td>0.777070</td>\n",
       "      <td>0.681818</td>\n",
       "      <td>0.262172</td>\n",
       "      <td>0.012000</td>\n",
       "      <td>knn</td>\n",
       "    </tr>\n",
       "    <tr>\n",
       "      <th>3</th>\n",
       "      <td>0.950161</td>\n",
       "      <td>0.794007</td>\n",
       "      <td>0.761905</td>\n",
       "      <td>0.727273</td>\n",
       "      <td>0.840764</td>\n",
       "      <td>0.744186</td>\n",
       "      <td>0.205993</td>\n",
       "      <td>0.123022</td>\n",
       "      <td>rand_for</td>\n",
       "    </tr>\n",
       "    <tr>\n",
       "      <th>4</th>\n",
       "      <td>0.811897</td>\n",
       "      <td>0.756554</td>\n",
       "      <td>0.706422</td>\n",
       "      <td>0.700000</td>\n",
       "      <td>0.796178</td>\n",
       "      <td>0.703196</td>\n",
       "      <td>0.243446</td>\n",
       "      <td>0.006484</td>\n",
       "      <td>sgd</td>\n",
       "    </tr>\n",
       "  </tbody>\n",
       "</table>\n",
       "</div>"
      ],
      "text/plain": [
       "   score_train  acc_test  prec_test  sens_test  spec_test   f1_scor   mserror  \\\n",
       "0     0.826367  0.794007   0.783505   0.690909   0.866242  0.734300  0.205993   \n",
       "1     0.802251  0.771536   0.747475   0.672727   0.840764  0.708134  0.228464   \n",
       "2     0.874598  0.737828   0.681818   0.681818   0.777070  0.681818  0.262172   \n",
       "3     0.950161  0.794007   0.761905   0.727273   0.840764  0.744186  0.205993   \n",
       "4     0.811897  0.756554   0.706422   0.700000   0.796178  0.703196  0.243446   \n",
       "\n",
       "       time    method  \n",
       "0  0.031649   reg_log  \n",
       "1  0.912226       svm  \n",
       "2  0.012000       knn  \n",
       "3  0.123022  rand_for  \n",
       "4  0.006484       sgd  "
      ]
     },
     "execution_count": 74,
     "metadata": {},
     "output_type": "execute_result"
    }
   ],
   "source": [
    "results_df"
   ]
  },
  {
   "cell_type": "code",
   "execution_count": 75,
   "metadata": {},
   "outputs": [
    {
     "data": {
      "text/html": [
       "<div>\n",
       "<style scoped>\n",
       "    .dataframe tbody tr th:only-of-type {\n",
       "        vertical-align: middle;\n",
       "    }\n",
       "\n",
       "    .dataframe tbody tr th {\n",
       "        vertical-align: top;\n",
       "    }\n",
       "\n",
       "    .dataframe thead th {\n",
       "        text-align: right;\n",
       "    }\n",
       "</style>\n",
       "<table border=\"1\" class=\"dataframe\">\n",
       "  <thead>\n",
       "    <tr style=\"text-align: right;\">\n",
       "      <th></th>\n",
       "      <th>score_train</th>\n",
       "      <th>acc_test</th>\n",
       "      <th>prec_test</th>\n",
       "      <th>sens_test</th>\n",
       "      <th>spec_test</th>\n",
       "      <th>f1_scor</th>\n",
       "      <th>mserror</th>\n",
       "      <th>time</th>\n",
       "    </tr>\n",
       "  </thead>\n",
       "  <tbody>\n",
       "    <tr>\n",
       "      <th>count</th>\n",
       "      <td>5.000000</td>\n",
       "      <td>5.000000</td>\n",
       "      <td>5.000000</td>\n",
       "      <td>5.000000</td>\n",
       "      <td>5.000000</td>\n",
       "      <td>5.000000</td>\n",
       "      <td>5.000000</td>\n",
       "      <td>5.000000</td>\n",
       "    </tr>\n",
       "    <tr>\n",
       "      <th>mean</th>\n",
       "      <td>0.853055</td>\n",
       "      <td>0.770787</td>\n",
       "      <td>0.736225</td>\n",
       "      <td>0.694545</td>\n",
       "      <td>0.824204</td>\n",
       "      <td>0.714327</td>\n",
       "      <td>0.229213</td>\n",
       "      <td>0.217076</td>\n",
       "    </tr>\n",
       "    <tr>\n",
       "      <th>std</th>\n",
       "      <td>0.060994</td>\n",
       "      <td>0.024330</td>\n",
       "      <td>0.041442</td>\n",
       "      <td>0.020929</td>\n",
       "      <td>0.036479</td>\n",
       "      <td>0.025048</td>\n",
       "      <td>0.024330</td>\n",
       "      <td>0.391429</td>\n",
       "    </tr>\n",
       "    <tr>\n",
       "      <th>min</th>\n",
       "      <td>0.802251</td>\n",
       "      <td>0.737828</td>\n",
       "      <td>0.681818</td>\n",
       "      <td>0.672727</td>\n",
       "      <td>0.777070</td>\n",
       "      <td>0.681818</td>\n",
       "      <td>0.205993</td>\n",
       "      <td>0.006484</td>\n",
       "    </tr>\n",
       "    <tr>\n",
       "      <th>25%</th>\n",
       "      <td>0.811897</td>\n",
       "      <td>0.756554</td>\n",
       "      <td>0.706422</td>\n",
       "      <td>0.681818</td>\n",
       "      <td>0.796178</td>\n",
       "      <td>0.703196</td>\n",
       "      <td>0.205993</td>\n",
       "      <td>0.012000</td>\n",
       "    </tr>\n",
       "    <tr>\n",
       "      <th>50%</th>\n",
       "      <td>0.826367</td>\n",
       "      <td>0.771536</td>\n",
       "      <td>0.747475</td>\n",
       "      <td>0.690909</td>\n",
       "      <td>0.840764</td>\n",
       "      <td>0.708134</td>\n",
       "      <td>0.228464</td>\n",
       "      <td>0.031649</td>\n",
       "    </tr>\n",
       "    <tr>\n",
       "      <th>75%</th>\n",
       "      <td>0.874598</td>\n",
       "      <td>0.794007</td>\n",
       "      <td>0.761905</td>\n",
       "      <td>0.700000</td>\n",
       "      <td>0.840764</td>\n",
       "      <td>0.734300</td>\n",
       "      <td>0.243446</td>\n",
       "      <td>0.123022</td>\n",
       "    </tr>\n",
       "    <tr>\n",
       "      <th>max</th>\n",
       "      <td>0.950161</td>\n",
       "      <td>0.794007</td>\n",
       "      <td>0.783505</td>\n",
       "      <td>0.727273</td>\n",
       "      <td>0.866242</td>\n",
       "      <td>0.744186</td>\n",
       "      <td>0.262172</td>\n",
       "      <td>0.912226</td>\n",
       "    </tr>\n",
       "  </tbody>\n",
       "</table>\n",
       "</div>"
      ],
      "text/plain": [
       "       score_train  acc_test  prec_test  sens_test  spec_test   f1_scor  \\\n",
       "count     5.000000  5.000000   5.000000   5.000000   5.000000  5.000000   \n",
       "mean      0.853055  0.770787   0.736225   0.694545   0.824204  0.714327   \n",
       "std       0.060994  0.024330   0.041442   0.020929   0.036479  0.025048   \n",
       "min       0.802251  0.737828   0.681818   0.672727   0.777070  0.681818   \n",
       "25%       0.811897  0.756554   0.706422   0.681818   0.796178  0.703196   \n",
       "50%       0.826367  0.771536   0.747475   0.690909   0.840764  0.708134   \n",
       "75%       0.874598  0.794007   0.761905   0.700000   0.840764  0.734300   \n",
       "max       0.950161  0.794007   0.783505   0.727273   0.866242  0.744186   \n",
       "\n",
       "        mserror      time  \n",
       "count  5.000000  5.000000  \n",
       "mean   0.229213  0.217076  \n",
       "std    0.024330  0.391429  \n",
       "min    0.205993  0.006484  \n",
       "25%    0.205993  0.012000  \n",
       "50%    0.228464  0.031649  \n",
       "75%    0.243446  0.123022  \n",
       "max    0.262172  0.912226  "
      ]
     },
     "execution_count": 75,
     "metadata": {},
     "output_type": "execute_result"
    }
   ],
   "source": [
    "results_df.describe()"
   ]
  },
  {
   "cell_type": "code",
   "execution_count": 76,
   "metadata": {},
   "outputs": [
    {
     "data": {
      "text/plain": [
       "Text(0, 0.5, 'Time (s)')"
      ]
     },
     "execution_count": 76,
     "metadata": {},
     "output_type": "execute_result"
    },
    {
     "data": {
      "image/png": "[encoded data removed]",
      "text/plain": [
       "<Figure size 432x288 with 1 Axes>"
      ]
     },
     "metadata": {
      "needs_background": "light"
     },
     "output_type": "display_data"
    }
   ],
   "source": [
    "plt.plot(results_df.method, results_df.time, 'b-', marker='o')\n",
    "plt.xlabel('Algorithms')\n",
    "plt.ylabel(\"Time (s)\")"
   ]
  },
  {
   "cell_type": "code",
   "execution_count": 78,
   "metadata": {},
   "outputs": [
    {
     "data": {
      "text/plain": [
       "<matplotlib.legend.Legend at 0x7f6347b0feb0>"
      ]
     },
     "execution_count": 78,
     "metadata": {},
     "output_type": "execute_result"
    },
    {
     "data": {
      "image/png": "[encoded data removed]",
      "text/plain": [
       "<Figure size 864x576 with 1 Axes>"
      ]
     },
     "metadata": {
      "needs_background": "light"
     },
     "output_type": "display_data"
    }
   ],
   "source": [
    "plt.figure(figsize=(12, 8))\n",
    "plt.plot(results_df.method, results_df.acc_test, 'b-', marker='o')\n",
    "plt.plot(results_df.method, results_df.prec_test, 'r--', marker='o')\n",
    "plt.plot(results_df.method, results_df.sens_test, 'g-', marker='o')\n",
    "plt.plot(results_df.method, results_df.spec_test, 'y--', marker='o')\n",
    "\n",
    "plt.xlabel('Algorithm')\n",
    "plt.legend(['Accuracy', 'Precission', 'Sensitivity', 'Specificity'])"
   ]
  },
  {
   "cell_type": "markdown",
   "metadata": {},
   "source": [
    "# /-----------------------------------------------------------------------------------------------------------/"
   ]
  },
  {
   "cell_type": "markdown",
   "metadata": {},
   "source": [
    "# Predicciones\n",
    "A continuación se muestra un poco del proceso de predicción de cada método, en este dataset no se conoce quién sobrevivió o no pero fue un ejercicio interesante para probar los algoritmos."
   ]
  },
  {
   "cell_type": "code",
   "execution_count": 336,
   "metadata": {},
   "outputs": [],
   "source": [
    "test_df = pd.read_csv('test.csv')\n",
    "\n",
    "test_df['Sex'].replace(['female', 'male'], [0, 1], inplace=True)\n",
    "test_df['Embarked'].replace(['Q', 'S', 'C'], [0, 1, 2], inplace=True)\n",
    "age_mean = test_df['Age'].mean()\n",
    "test_df['Age'] = test_df['Age'].replace(np.nan, age_mean)\n",
    "\n",
    "bins = [0, 8, 15, 18, 25, 40, 60, 100]\n",
    "values = ['1', '2', '3', '4', '5', '6', '7']\n",
    "test_df['Age'] = pd.cut(test_df['Age'], bins, labels=values)\n",
    "\n",
    "test_df.drop(['Cabin'], axis=1, inplace=True)\n",
    "test_df.drop(['Name'], axis=1, inplace=True)\n",
    "test_df.drop(['Ticket'], axis=1, inplace=True)\n",
    "\n",
    "test_df.dropna(axis=0, how='any', inplace=True)"
   ]
  },
  {
   "cell_type": "code",
   "execution_count": 337,
   "metadata": {},
   "outputs": [],
   "source": [
    "ids = test_df['PassengerId']\n",
    "pred_x = test_df.drop('PassengerId', axis=1)"
   ]
  },
  {
   "cell_type": "markdown",
   "metadata": {},
   "source": [
    "### Predicción Regresión Logística"
   ]
  },
  {
   "cell_type": "code",
   "execution_count": 338,
   "metadata": {},
   "outputs": [
    {
     "data": {
      "text/html": [
       "<div>\n",
       "<style scoped>\n",
       "    .dataframe tbody tr th:only-of-type {\n",
       "        vertical-align: middle;\n",
       "    }\n",
       "\n",
       "    .dataframe tbody tr th {\n",
       "        vertical-align: top;\n",
       "    }\n",
       "\n",
       "    .dataframe thead th {\n",
       "        text-align: right;\n",
       "    }\n",
       "</style>\n",
       "<table border=\"1\" class=\"dataframe\">\n",
       "  <thead>\n",
       "    <tr style=\"text-align: right;\">\n",
       "      <th></th>\n",
       "      <th>PassengerId</th>\n",
       "      <th>Survived</th>\n",
       "    </tr>\n",
       "  </thead>\n",
       "  <tbody>\n",
       "    <tr>\n",
       "      <th>0</th>\n",
       "      <td>892</td>\n",
       "      <td>0</td>\n",
       "    </tr>\n",
       "    <tr>\n",
       "      <th>1</th>\n",
       "      <td>893</td>\n",
       "      <td>0</td>\n",
       "    </tr>\n",
       "    <tr>\n",
       "      <th>2</th>\n",
       "      <td>894</td>\n",
       "      <td>0</td>\n",
       "    </tr>\n",
       "    <tr>\n",
       "      <th>3</th>\n",
       "      <td>895</td>\n",
       "      <td>0</td>\n",
       "    </tr>\n",
       "    <tr>\n",
       "      <th>4</th>\n",
       "      <td>896</td>\n",
       "      <td>1</td>\n",
       "    </tr>\n",
       "    <tr>\n",
       "      <th>5</th>\n",
       "      <td>897</td>\n",
       "      <td>0</td>\n",
       "    </tr>\n",
       "    <tr>\n",
       "      <th>6</th>\n",
       "      <td>898</td>\n",
       "      <td>1</td>\n",
       "    </tr>\n",
       "    <tr>\n",
       "      <th>7</th>\n",
       "      <td>899</td>\n",
       "      <td>0</td>\n",
       "    </tr>\n",
       "    <tr>\n",
       "      <th>8</th>\n",
       "      <td>900</td>\n",
       "      <td>1</td>\n",
       "    </tr>\n",
       "    <tr>\n",
       "      <th>9</th>\n",
       "      <td>901</td>\n",
       "      <td>0</td>\n",
       "    </tr>\n",
       "  </tbody>\n",
       "</table>\n",
       "</div>"
      ],
      "text/plain": [
       "   PassengerId  Survived\n",
       "0          892         0\n",
       "1          893         0\n",
       "2          894         0\n",
       "3          895         0\n",
       "4          896         1\n",
       "5          897         0\n",
       "6          898         1\n",
       "7          899         0\n",
       "8          900         1\n",
       "9          901         0"
      ]
     },
     "execution_count": 338,
     "metadata": {},
     "output_type": "execute_result"
    }
   ],
   "source": [
    "pred_log_reg = log_reg.predict(pred_x)\n",
    "out_log_reg = pd.DataFrame({'PassengerId': ids, 'Survived': pred_log_reg})\n",
    "out_log_reg.head(10)"
   ]
  },
  {
   "cell_type": "markdown",
   "metadata": {},
   "source": [
    "### Predicción SVC "
   ]
  },
  {
   "cell_type": "code",
   "execution_count": 340,
   "metadata": {
    "scrolled": false
   },
   "outputs": [
    {
     "data": {
      "text/html": [
       "<div>\n",
       "<style scoped>\n",
       "    .dataframe tbody tr th:only-of-type {\n",
       "        vertical-align: middle;\n",
       "    }\n",
       "\n",
       "    .dataframe tbody tr th {\n",
       "        vertical-align: top;\n",
       "    }\n",
       "\n",
       "    .dataframe thead th {\n",
       "        text-align: right;\n",
       "    }\n",
       "</style>\n",
       "<table border=\"1\" class=\"dataframe\">\n",
       "  <thead>\n",
       "    <tr style=\"text-align: right;\">\n",
       "      <th></th>\n",
       "      <th>PassengerId</th>\n",
       "      <th>Survived</th>\n",
       "    </tr>\n",
       "  </thead>\n",
       "  <tbody>\n",
       "    <tr>\n",
       "      <th>0</th>\n",
       "      <td>892</td>\n",
       "      <td>0</td>\n",
       "    </tr>\n",
       "    <tr>\n",
       "      <th>1</th>\n",
       "      <td>893</td>\n",
       "      <td>0</td>\n",
       "    </tr>\n",
       "    <tr>\n",
       "      <th>2</th>\n",
       "      <td>894</td>\n",
       "      <td>0</td>\n",
       "    </tr>\n",
       "    <tr>\n",
       "      <th>3</th>\n",
       "      <td>895</td>\n",
       "      <td>0</td>\n",
       "    </tr>\n",
       "    <tr>\n",
       "      <th>4</th>\n",
       "      <td>896</td>\n",
       "      <td>0</td>\n",
       "    </tr>\n",
       "    <tr>\n",
       "      <th>5</th>\n",
       "      <td>897</td>\n",
       "      <td>0</td>\n",
       "    </tr>\n",
       "    <tr>\n",
       "      <th>6</th>\n",
       "      <td>898</td>\n",
       "      <td>0</td>\n",
       "    </tr>\n",
       "    <tr>\n",
       "      <th>7</th>\n",
       "      <td>899</td>\n",
       "      <td>0</td>\n",
       "    </tr>\n",
       "    <tr>\n",
       "      <th>8</th>\n",
       "      <td>900</td>\n",
       "      <td>0</td>\n",
       "    </tr>\n",
       "    <tr>\n",
       "      <th>9</th>\n",
       "      <td>901</td>\n",
       "      <td>0</td>\n",
       "    </tr>\n",
       "  </tbody>\n",
       "</table>\n",
       "</div>"
      ],
      "text/plain": [
       "   PassengerId  Survived\n",
       "0          892         0\n",
       "1          893         0\n",
       "2          894         0\n",
       "3          895         0\n",
       "4          896         0\n",
       "5          897         0\n",
       "6          898         0\n",
       "7          899         0\n",
       "8          900         0\n",
       "9          901         0"
      ]
     },
     "execution_count": 340,
     "metadata": {},
     "output_type": "execute_result"
    }
   ],
   "source": [
    "pred_svc = svc.predict(pred_x)\n",
    "out_svc = pd.DataFrame({'PassengerId': ids, 'Survived': pred_svc})\n",
    "out_svc.head(10)"
   ]
  },
  {
   "cell_type": "markdown",
   "metadata": {},
   "source": [
    "### Predicción KNN"
   ]
  },
  {
   "cell_type": "code",
   "execution_count": 341,
   "metadata": {},
   "outputs": [
    {
     "data": {
      "text/html": [
       "<div>\n",
       "<style scoped>\n",
       "    .dataframe tbody tr th:only-of-type {\n",
       "        vertical-align: middle;\n",
       "    }\n",
       "\n",
       "    .dataframe tbody tr th {\n",
       "        vertical-align: top;\n",
       "    }\n",
       "\n",
       "    .dataframe thead th {\n",
       "        text-align: right;\n",
       "    }\n",
       "</style>\n",
       "<table border=\"1\" class=\"dataframe\">\n",
       "  <thead>\n",
       "    <tr style=\"text-align: right;\">\n",
       "      <th></th>\n",
       "      <th>PassengerId</th>\n",
       "      <th>Survived</th>\n",
       "    </tr>\n",
       "  </thead>\n",
       "  <tbody>\n",
       "    <tr>\n",
       "      <th>0</th>\n",
       "      <td>892</td>\n",
       "      <td>0</td>\n",
       "    </tr>\n",
       "    <tr>\n",
       "      <th>1</th>\n",
       "      <td>893</td>\n",
       "      <td>0</td>\n",
       "    </tr>\n",
       "    <tr>\n",
       "      <th>2</th>\n",
       "      <td>894</td>\n",
       "      <td>0</td>\n",
       "    </tr>\n",
       "    <tr>\n",
       "      <th>3</th>\n",
       "      <td>895</td>\n",
       "      <td>0</td>\n",
       "    </tr>\n",
       "    <tr>\n",
       "      <th>4</th>\n",
       "      <td>896</td>\n",
       "      <td>1</td>\n",
       "    </tr>\n",
       "    <tr>\n",
       "      <th>5</th>\n",
       "      <td>897</td>\n",
       "      <td>0</td>\n",
       "    </tr>\n",
       "    <tr>\n",
       "      <th>6</th>\n",
       "      <td>898</td>\n",
       "      <td>1</td>\n",
       "    </tr>\n",
       "    <tr>\n",
       "      <th>7</th>\n",
       "      <td>899</td>\n",
       "      <td>1</td>\n",
       "    </tr>\n",
       "    <tr>\n",
       "      <th>8</th>\n",
       "      <td>900</td>\n",
       "      <td>1</td>\n",
       "    </tr>\n",
       "    <tr>\n",
       "      <th>9</th>\n",
       "      <td>901</td>\n",
       "      <td>0</td>\n",
       "    </tr>\n",
       "  </tbody>\n",
       "</table>\n",
       "</div>"
      ],
      "text/plain": [
       "   PassengerId  Survived\n",
       "0          892         0\n",
       "1          893         0\n",
       "2          894         0\n",
       "3          895         0\n",
       "4          896         1\n",
       "5          897         0\n",
       "6          898         1\n",
       "7          899         1\n",
       "8          900         1\n",
       "9          901         0"
      ]
     },
     "execution_count": 341,
     "metadata": {},
     "output_type": "execute_result"
    }
   ],
   "source": [
    "pred_knn = knn.predict(pred_x)\n",
    "out_knn = pd.DataFrame({'PassengerId': ids, 'Survived': pred_knn})\n",
    "out_knn.head(10)"
   ]
  },
  {
   "cell_type": "markdown",
   "metadata": {},
   "source": [
    "### Predicción Random Forest"
   ]
  },
  {
   "cell_type": "code",
   "execution_count": 345,
   "metadata": {},
   "outputs": [
    {
     "data": {
      "text/html": [
       "<div>\n",
       "<style scoped>\n",
       "    .dataframe tbody tr th:only-of-type {\n",
       "        vertical-align: middle;\n",
       "    }\n",
       "\n",
       "    .dataframe tbody tr th {\n",
       "        vertical-align: top;\n",
       "    }\n",
       "\n",
       "    .dataframe thead th {\n",
       "        text-align: right;\n",
       "    }\n",
       "</style>\n",
       "<table border=\"1\" class=\"dataframe\">\n",
       "  <thead>\n",
       "    <tr style=\"text-align: right;\">\n",
       "      <th></th>\n",
       "      <th>PassengerId</th>\n",
       "      <th>Survived</th>\n",
       "    </tr>\n",
       "  </thead>\n",
       "  <tbody>\n",
       "    <tr>\n",
       "      <th>0</th>\n",
       "      <td>892</td>\n",
       "      <td>0</td>\n",
       "    </tr>\n",
       "    <tr>\n",
       "      <th>1</th>\n",
       "      <td>893</td>\n",
       "      <td>1</td>\n",
       "    </tr>\n",
       "    <tr>\n",
       "      <th>2</th>\n",
       "      <td>894</td>\n",
       "      <td>0</td>\n",
       "    </tr>\n",
       "    <tr>\n",
       "      <th>3</th>\n",
       "      <td>895</td>\n",
       "      <td>0</td>\n",
       "    </tr>\n",
       "    <tr>\n",
       "      <th>4</th>\n",
       "      <td>896</td>\n",
       "      <td>0</td>\n",
       "    </tr>\n",
       "    <tr>\n",
       "      <th>5</th>\n",
       "      <td>897</td>\n",
       "      <td>0</td>\n",
       "    </tr>\n",
       "    <tr>\n",
       "      <th>6</th>\n",
       "      <td>898</td>\n",
       "      <td>1</td>\n",
       "    </tr>\n",
       "    <tr>\n",
       "      <th>7</th>\n",
       "      <td>899</td>\n",
       "      <td>0</td>\n",
       "    </tr>\n",
       "    <tr>\n",
       "      <th>8</th>\n",
       "      <td>900</td>\n",
       "      <td>1</td>\n",
       "    </tr>\n",
       "    <tr>\n",
       "      <th>9</th>\n",
       "      <td>901</td>\n",
       "      <td>0</td>\n",
       "    </tr>\n",
       "  </tbody>\n",
       "</table>\n",
       "</div>"
      ],
      "text/plain": [
       "   PassengerId  Survived\n",
       "0          892         0\n",
       "1          893         1\n",
       "2          894         0\n",
       "3          895         0\n",
       "4          896         0\n",
       "5          897         0\n",
       "6          898         1\n",
       "7          899         0\n",
       "8          900         1\n",
       "9          901         0"
      ]
     },
     "execution_count": 345,
     "metadata": {},
     "output_type": "execute_result"
    }
   ],
   "source": [
    "pred_rfm = rfm.predict(pred_x)\n",
    "out_rfm = pd.DataFrame({'PassengerId': ids, 'Survived': pred_rfm})\n",
    "out_rfm.head(10)"
   ]
  },
  {
   "cell_type": "markdown",
   "metadata": {},
   "source": [
    "### Predicción SGD"
   ]
  },
  {
   "cell_type": "code",
   "execution_count": 346,
   "metadata": {},
   "outputs": [
    {
     "data": {
      "text/html": [
       "<div>\n",
       "<style scoped>\n",
       "    .dataframe tbody tr th:only-of-type {\n",
       "        vertical-align: middle;\n",
       "    }\n",
       "\n",
       "    .dataframe tbody tr th {\n",
       "        vertical-align: top;\n",
       "    }\n",
       "\n",
       "    .dataframe thead th {\n",
       "        text-align: right;\n",
       "    }\n",
       "</style>\n",
       "<table border=\"1\" class=\"dataframe\">\n",
       "  <thead>\n",
       "    <tr style=\"text-align: right;\">\n",
       "      <th></th>\n",
       "      <th>PassengerId</th>\n",
       "      <th>Survived</th>\n",
       "    </tr>\n",
       "  </thead>\n",
       "  <tbody>\n",
       "    <tr>\n",
       "      <th>0</th>\n",
       "      <td>892</td>\n",
       "      <td>0</td>\n",
       "    </tr>\n",
       "    <tr>\n",
       "      <th>1</th>\n",
       "      <td>893</td>\n",
       "      <td>0</td>\n",
       "    </tr>\n",
       "    <tr>\n",
       "      <th>2</th>\n",
       "      <td>894</td>\n",
       "      <td>0</td>\n",
       "    </tr>\n",
       "    <tr>\n",
       "      <th>3</th>\n",
       "      <td>895</td>\n",
       "      <td>0</td>\n",
       "    </tr>\n",
       "    <tr>\n",
       "      <th>4</th>\n",
       "      <td>896</td>\n",
       "      <td>0</td>\n",
       "    </tr>\n",
       "    <tr>\n",
       "      <th>5</th>\n",
       "      <td>897</td>\n",
       "      <td>0</td>\n",
       "    </tr>\n",
       "    <tr>\n",
       "      <th>6</th>\n",
       "      <td>898</td>\n",
       "      <td>0</td>\n",
       "    </tr>\n",
       "    <tr>\n",
       "      <th>7</th>\n",
       "      <td>899</td>\n",
       "      <td>0</td>\n",
       "    </tr>\n",
       "    <tr>\n",
       "      <th>8</th>\n",
       "      <td>900</td>\n",
       "      <td>1</td>\n",
       "    </tr>\n",
       "    <tr>\n",
       "      <th>9</th>\n",
       "      <td>901</td>\n",
       "      <td>0</td>\n",
       "    </tr>\n",
       "  </tbody>\n",
       "</table>\n",
       "</div>"
      ],
      "text/plain": [
       "   PassengerId  Survived\n",
       "0          892         0\n",
       "1          893         0\n",
       "2          894         0\n",
       "3          895         0\n",
       "4          896         0\n",
       "5          897         0\n",
       "6          898         0\n",
       "7          899         0\n",
       "8          900         1\n",
       "9          901         0"
      ]
     },
     "execution_count": 346,
     "metadata": {},
     "output_type": "execute_result"
    }
   ],
   "source": [
    "pred_sgd = sgd.predict(pred_x)\n",
    "out_sgd = pd.DataFrame({'PassengerId': ids, 'Survived': pred_sgd})\n",
    "out_sgd.head(10)"
   ]
  }
 ],
 "metadata": {
  "kernelspec": {
   "display_name": "Python 3",
   "language": "python",
   "name": "python3"
  },
  "language_info": {
   "codemirror_mode": {
    "name": "ipython",
    "version": 3
   },
   "file_extension": ".py",
   "mimetype": "text/x-python",
   "name": "python",
   "nbconvert_exporter": "python",
   "pygments_lexer": "ipython3",
   "version": "3.8.3"
  }
 },
 "nbformat": 4,
 "nbformat_minor": 4
}
